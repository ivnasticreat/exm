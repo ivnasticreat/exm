{
 "cells": [
  {
   "cell_type": "markdown",
   "id": "9b550f31-bc64-4284-9fc5-89505b5a948f",
   "metadata": {},
   "source": [
    "Экзаменационное задание по курсу «Программирование на Python»"
   ]
  },
  {
   "cell_type": "markdown",
   "id": "a5125273-6fc9-4e20-89d6-91e495590997",
   "metadata": {},
   "source": [
    "Задание 1 (4 балла)\n",
    "Обратный порядок слов в блоках текста\n",
    "Дан текстовый файл, каждое предложение которого занимает одну строку. Напишите программу, которая разделяет текст на блоки — каждый блок состоит из нескольких предложений. Затем переворачивает порядок слов только внутри каждого предложения, не меняя порядок самих предложений в блоке.\n",
    "\n",
    "Файл содержит:\n",
    "\n",
    "Привет как дела\n",
    "На улице идет дождь\n",
    "Я люблю программирование"
   ]
  },
  {
   "cell_type": "code",
   "execution_count": 2,
   "id": "c0b4f54e-371f-49f7-8851-1baa00cd5148",
   "metadata": {},
   "outputs": [
    {
     "name": "stdout",
     "output_type": "stream",
     "text": [
      "Привет\n",
      "как\n",
      "дела\n",
      "улице На\n",
      "дождь идет\n",
      "программирование люблю Я\n",
      "\n"
     ]
    }
   ],
   "source": [
    "# Функция, разделяющая текстовую последовательность на фрагменты заданной длины.\n",
    "# При условии, что длина фрагмента превышает или равна длине исходной последовательности, последующий фрагмент не будет содержать символов.\n",
    "def split_line_on_blocks(line, block_size):\n",
    "    if len(line) <= block_size:\n",
    "        return [line, '']\n",
    "    else:\n",
    "        result = []\n",
    "        idx = 0\n",
    "        while idx < len(line):\n",
    "            result += [line[idx:idx + block_size]]\n",
    "            idx += block_size\n",
    "        return result\n",
    "\n",
    "\n",
    "# Метод, инвертирующий порядок символов в каждом слове текстового блока и объединяющий их в результирующую последовательность.\n",
    "def reverse_string(block):\n",
    "    result = ''\n",
    "    for i in range(len(block) - 1, -1, -1):\n",
    "        result += block[i]\n",
    "        result += ' '\n",
    "    result = result.strip()\n",
    "    return result\n",
    "\n",
    "\n",
    "# Собираем данные в список\n",
    "with open('input.txt', 'r', encoding='utf-8') as input_data:\n",
    "    str_list = [line.split() for line in input_data]\n",
    "\n",
    "# Каждую строку из файла разбиваем на блоки и переворачиваем внутри блока.\n",
    "for i, str in enumerate(str_list):\n",
    "    blocks = split_line_on_blocks(str, i + 1)\n",
    "    for block in blocks:\n",
    "        print(reverse_string(block))"
   ]
  },
  {
   "cell_type": "markdown",
   "id": "29179642-ae59-4546-b4c1-aa11b7d1a0f9",
   "metadata": {},
   "source": [
    "Задание 2 (2 балла)\r\n",
    "Напишите функцию, которая принимает строку и сжимает её определённым образом. Строки содержат произвольные символы, включая пробелы и спецсимволы, и требуют точного учета длины при кодировании. Сжатие строки происходит сериями одинаковых символов в формате с и м в о л + к о л и ч е с т в оч\r\n",
    "е\r\n",
    "с\r\n",
    "т\r\n",
    "в\r\n",
    "о\r\n",
    ", но только если длина сжатой строки не превышает исходную.\r\n",
    "\r\n",
    "Примеры:\r\n",
    "\r\n",
    "вход: aaabbc → вывод: a3b2c,\r\n",
    "вход: abcd → вывод: abcd (так как сжатая равна)."
   ]
  },
  {
   "cell_type": "code",
   "execution_count": 5,
   "id": "d38e8959-e963-4438-bf05-586cb7aeb93a",
   "metadata": {},
   "outputs": [
    {
     "ename": "TypeError",
     "evalue": "'list' object is not callable",
     "output_type": "error",
     "traceback": [
      "\u001b[1;31m---------------------------------------------------------------------------\u001b[0m",
      "\u001b[1;31mTypeError\u001b[0m                                 Traceback (most recent call last)",
      "Cell \u001b[1;32mIn[5], line 34\u001b[0m\n\u001b[0;32m     31\u001b[0m str_list \u001b[38;5;241m=\u001b[39m [\u001b[38;5;124m'\u001b[39m\u001b[38;5;124m2222222222\u001b[39m\u001b[38;5;124m'\u001b[39m,\u001b[38;5;124m'\u001b[39m\u001b[38;5;124maaaabbbccc\u001b[39m\u001b[38;5;124m'\u001b[39m, \u001b[38;5;124m'\u001b[39m\u001b[38;5;124mabcc\u001b[39m\u001b[38;5;124m'\u001b[39m, \u001b[38;5;124m'\u001b[39m\u001b[38;5;124mabc\u001b[39m\u001b[38;5;124m'\u001b[39m, \u001b[38;5;124m'\u001b[39m\u001b[38;5;124ma\u001b[39m\u001b[38;5;124m'\u001b[39m, \u001b[38;5;124m'\u001b[39m\u001b[38;5;124maa\u001b[39m\u001b[38;5;124m'\u001b[39m, \u001b[38;5;124m'\u001b[39m\u001b[38;5;124maaa\u001b[39m\u001b[38;5;124m'\u001b[39m, \u001b[38;5;124m'\u001b[39m\u001b[38;5;124maaaa\u001b[39m\u001b[38;5;124m'\u001b[39m, \u001b[38;5;124m'\u001b[39m\u001b[38;5;124maaaaa\u001b[39m\u001b[38;5;124m'\u001b[39m, \u001b[38;5;124m'\u001b[39m\u001b[38;5;124maaabbc\u001b[39m\u001b[38;5;124m'\u001b[39m, \u001b[38;5;124m'\u001b[39m\u001b[38;5;124mabcd\u001b[39m\u001b[38;5;124m'\u001b[39m, \u001b[38;5;124m'\u001b[39m\u001b[38;5;124maabccaaacabbb\u001b[39m\u001b[38;5;124m'\u001b[39m,\u001b[38;5;124m'\u001b[39m\u001b[38;5;124m'\u001b[39m, \u001b[38;5;124m'\u001b[39m\u001b[38;5;124m   asdasssss   ,;\u001b[39m\u001b[38;5;124m\"\u001b[39m\u001b[38;5;124m\"\u001b[39m\u001b[38;5;124m221241@@@4121\u001b[39m\u001b[38;5;124m'\u001b[39m]\n\u001b[0;32m     33\u001b[0m \u001b[38;5;28;01mfor\u001b[39;00m i \u001b[38;5;129;01min\u001b[39;00m str_list:\n\u001b[1;32m---> 34\u001b[0m     compressed_str \u001b[38;5;241m=\u001b[39m compress_string(i)\n\u001b[0;32m     35\u001b[0m     \u001b[38;5;28mprint\u001b[39m(i, \u001b[38;5;124m'\u001b[39m\u001b[38;5;124mдлина строки\u001b[39m\u001b[38;5;124m'\u001b[39m, \u001b[38;5;28mlen\u001b[39m(i), \u001b[38;5;124m'\u001b[39m\u001b[38;5;124m->\u001b[39m\u001b[38;5;124m'\u001b[39m, compressed_str, \u001b[38;5;124m'\u001b[39m\u001b[38;5;124mдлина сжатой строки\u001b[39m\u001b[38;5;124m'\u001b[39m, \u001b[38;5;28mlen\u001b[39m(compressed_str))\n",
      "Cell \u001b[1;32mIn[5], line 21\u001b[0m, in \u001b[0;36mcompress_string\u001b[1;34m(string)\u001b[0m\n\u001b[0;32m     19\u001b[0m     compressed \u001b[38;5;241m+\u001b[39m\u001b[38;5;241m=\u001b[39m char\n\u001b[0;32m     20\u001b[0m     \u001b[38;5;28;01mif\u001b[39;00m count \u001b[38;5;241m>\u001b[39m \u001b[38;5;241m1\u001b[39m:\n\u001b[1;32m---> 21\u001b[0m        compressed \u001b[38;5;241m+\u001b[39m\u001b[38;5;241m=\u001b[39m \u001b[38;5;28mstr\u001b[39m(count)\n\u001b[0;32m     22\u001b[0m     i \u001b[38;5;241m=\u001b[39m j\n\u001b[0;32m     24\u001b[0m \u001b[38;5;28;01mif\u001b[39;00m \u001b[38;5;28mlen\u001b[39m(compressed) \u001b[38;5;241m<\u001b[39m \u001b[38;5;28mlen\u001b[39m(string):\n",
      "\u001b[1;31mTypeError\u001b[0m: 'list' object is not callable"
     ]
    }
   ],
   "source": [
    "def compress_string(string):\n",
    "    \"\"\"\n",
    "    Сжимает строку, заменяя последовательности одинаковых символов на символ + количество.\n",
    "    Возвращает сжатую строку, только если она короче исходной, иначе - исходную.\n",
    "    \"\"\"\n",
    "    if len(string) < 2:\n",
    "        return string\n",
    "\n",
    "    compressed = \"\"\n",
    "    i = 0\n",
    "    while i < len(string):\n",
    "        char = string[i]\n",
    "        count = 1\n",
    "        j = i + 1\n",
    "        while j < len(string) and string[j] == char:\n",
    "            count += 1\n",
    "            j += 1\n",
    "\n",
    "        compressed += char\n",
    "        if count > 1:\n",
    "           compressed += str(count)\n",
    "        i = j\n",
    "\n",
    "    if len(compressed) < len(string):\n",
    "        return compressed\n",
    "    else:\n",
    "        return string\n",
    "\n",
    "\n",
    "# Тесты\n",
    "str_list = ['2222222222','aaaabbbccc', 'abcc', 'abc', 'a', 'aa', 'aaa', 'aaaa', 'aaaaa', 'aaabbc', 'abcd', 'aabccaaacabbb','', '   asdasssss   ,;\"\"221241@@@4121']\n",
    "\n",
    "for i in str_list:\n",
    "    compressed_str = compress_string(i)\n",
    "    print(i, 'длина строки', len(i), '->', compressed_str, 'длина сжатой строки', len(compressed_str))\n",
    "\n"
   ]
  },
  {
   "cell_type": "markdown",
   "id": "14bd11e5-1977-4b90-a123-d862256169b8",
   "metadata": {},
   "source": [
    "Задание 3 (4 балла)\r\n",
    "Хаотичные скобки\r\n",
    "Реализуйте функцию, которая проверяет, правильно ли расставлены скобки в строке (включая круглые, квадратные и фигурные скобки)."
   ]
  },
  {
   "cell_type": "code",
   "execution_count": 8,
   "id": "6d61757b-8027-4a8f-8f13-3a416ed9ffc8",
   "metadata": {},
   "outputs": [
    {
     "name": "stdout",
     "output_type": "stream",
     "text": [
      "(((([{}])))) -> True\n",
      "[([])((([[[]]])))]{()} -> True\n",
      "{{[()]}} -> True\n",
      "}{} -> False\n",
      "{{[(])]}} -> False\n",
      "[[{())}] -> False\n",
      "aaaaa(aaavaaf)asds{(asd)} -> True\n",
      "asasd{asda()sdas}] -> False\n",
      " -> True\n"
     ]
    }
   ],
   "source": [
    "# Карта соответствия открывающихся скобок закрывающимся.\n",
    "brackets_map = {\n",
    "    '(': ')',\n",
    "    '[': ']',\n",
    "    '{': '}'\n",
    "}\n",
    "\n",
    "\n",
    "def is_correct_brackets(string):\n",
    "    stack = []\n",
    "    for character in string:\n",
    "        if character in brackets_map.keys():\n",
    "            stack.append(character)\n",
    "        elif character in brackets_map.values():\n",
    "            if not stack:\n",
    "                return False\n",
    "            if character != brackets_map[stack.pop()]:\n",
    "                return False\n",
    "    return not stack\n",
    "\n",
    "\n",
    "# Тесты\n",
    "str_list = [\n",
    "    '(((([{}]))))',\n",
    "    '[([])((([[[]]])))]{()}',\n",
    "    '{{[()]}}',\n",
    "    '}{}',\n",
    "    '{{[(])]}}',\n",
    "    '[[{())}]',\n",
    "    'aaaaa(aaavaaf)asds{(asd)}',\n",
    "    'asasd{asda()sdas}]',\n",
    "    ''\n",
    "]\n",
    "\n",
    "for i in str_list:\n",
    "    print(i, '->', is_correct_brackets(i))"
   ]
  },
  {
   "cell_type": "markdown",
   "id": "34c8b471-35ab-4758-9dce-869de0ac5cc9",
   "metadata": {},
   "source": [
    "Задание 4 (4 балла)\r\n",
    "Генератор случайных паролей\r\n",
    "Напишите функцию, которая генерирует пароль заданной длины. В реализации надо учитывать, что:\r\n",
    "\r\n",
    "Пароль должен содержать буквы, цифры и специальные символы.\r\n",
    "Длина пароля задается пользователем."
   ]
  },
  {
   "cell_type": "code",
   "execution_count": 11,
   "id": "fd68a546-eeb3-44e6-a348-d61682e73b0f",
   "metadata": {},
   "outputs": [
    {
     "name": "stdout",
     "output_type": "stream",
     "text": [
      "3 -> e4@ длина пароля 3\n",
      "4 -> F*90 длина пароля 4\n",
      "5 -> (fD60 длина пароля 5\n",
      "6 -> 9$j`+( длина пароля 6\n",
      "6 -> %aNXs9 длина пароля 6\n",
      "6 -> 82J@Rt длина пароля 6\n",
      "7 -> 9^13v06 длина пароля 7\n",
      "8 -> 349Z=X52 длина пароля 8\n",
      "4 -> %hz4 длина пароля 4\n",
      "10 -> 0V&(@t|+-# длина пароля 10\n"
     ]
    }
   ],
   "source": [
    "import string\n",
    "import random\n",
    "\n",
    "# Метод, который генерирует пароль. Пароль не может содержать меньше трех символов\n",
    "# и должен содержать буквы, цифры и специальные символы.\n",
    "# Кол-во букв, цифр и спец. символов определяется случайным образом, но не может быть меньше 1, а общее кол-во символов\n",
    "# не может превышать длину пароля.\n",
    "# Порядок букв, цифр и спец. символов определяется случайным образом.\n",
    "def generate_password(length):\n",
    "    if length < 3:\n",
    "        raise ValueError('Длина пароля должна быть больше или равна 3')\n",
    "    special_char_qty = random.randint(1, length-2)\n",
    "    digits_qty = random.randint(1, length-special_char_qty-1)\n",
    "    letters_qty = length - special_char_qty - digits_qty\n",
    "    chars = []\n",
    "    chars += random.sample(string.ascii_letters, letters_qty)\n",
    "    chars += random.sample(string.digits, digits_qty)\n",
    "    chars += random.sample(string.punctuation, special_char_qty)\n",
    "    random.shuffle(chars)\n",
    "    return ''.join(chars)\n",
    "\n",
    "# Тесты\n",
    "len_list = [3,4,5,6,6,6,7,8,4,10]\n",
    "for i in len_list:\n",
    "    password = generate_password(i)\n",
    "    print(i, '->', password, 'длина пароля', len(password))"
   ]
  },
  {
   "cell_type": "markdown",
   "id": "2f0fe416-c62f-41f1-afdf-d2734fb7238f",
   "metadata": {},
   "source": [
    "Задание 5 (6 баллов)\r\n",
    "Эмуляция работы электронной очереди\r\n",
    "Напишите класс для симуляции работы электронной очереди, например, в банке."
   ]
  },
  {
   "cell_type": "code",
   "execution_count": 14,
   "id": "980006db-8c85-43c8-a41a-5d8db51c6e71",
   "metadata": {},
   "outputs": [
    {
     "name": "stdout",
     "output_type": "stream",
     "text": [
      "Клиентов в очереди VIP: 0, обычных: 6.\n",
      "Обработано 4 VIP клиентов, обработано 0 обычных клиентов.\n",
      "Общее время обслуживания: 12.\n",
      "Время обслуживания VIP: 12, обычных: 0.\n",
      "Время осблуживания оставшихся клиентов в очереди 6.\n"
     ]
    }
   ],
   "source": [
    "import random\n",
    "\n",
    "\n",
    "# Класс клиента, который может быть VIP или обычным\n",
    "class Client:\n",
    "    def __init__(self, is_vip):\n",
    "        self.is_vip = is_vip\n",
    "\n",
    "\n",
    "# Класс очереди\n",
    "class Queue:\n",
    "    def __init__(self, vip_time, simple_time):\n",
    "        self.vip_time = vip_time\n",
    "        self.simple_time = simple_time\n",
    "        self.simple_queue = []\n",
    "        self.vip_queue = []\n",
    "        self.report_map = {\n",
    "            'vip': 0,\n",
    "            'simple': 0\n",
    "        }\n",
    "\n",
    "    # Добавление клиента в очередь. В зависимости от приоритета клиента добавляем в определенную очередь\n",
    "    def add_client(self, client):\n",
    "        if client.is_vip:\n",
    "            self.vip_queue.append(client)\n",
    "        else:\n",
    "            self.simple_queue.append(client)\n",
    "\n",
    "    # Удаление клиента из очереди. Сперва обрабатываем VIP очередь, затем обычную.\n",
    "    def remove_client(self):\n",
    "        if len(self.vip_queue) > 0:\n",
    "            self.report_map['vip'] += 1\n",
    "            return self.vip_queue.pop(0)\n",
    "        else:\n",
    "            self.report_map['simple'] += 1\n",
    "            return self.simple_queue.pop(0)\n",
    "\n",
    "    # Генерация отчета\n",
    "    def generate_report(self):\n",
    "        vip_qty = self.report_map['vip']\n",
    "        simple_qty = self.report_map['simple']\n",
    "        total_vip_time = vip_qty * self.vip_time\n",
    "        total_simple_time = simple_qty * self.simple_time\n",
    "        total_time = total_vip_time + total_simple_time\n",
    "        print(f'Клиентов в очереди VIP: {len(self.vip_queue)}, обычных: {len(self.simple_queue)}.\\n'\n",
    "              f'Обработано {vip_qty} VIP клиентов, обработано {simple_qty} обычных клиентов.\\n'\n",
    "              f'Общее время обслуживания: {total_time}.\\n'\n",
    "              f'Время обслуживания VIP: {total_vip_time}, обычных: {total_simple_time}.\\n'\n",
    "              f'Время осблуживания оставшихся клиентов в очереди {len(self.vip_queue) * self.vip_time + len(self.simple_queue) * self.simple_time}.')\n",
    "\n",
    "\n",
    "# Инициализация очереди\n",
    "queue = Queue(vip_time=3, simple_time=1)\n",
    "\n",
    "clients_qty = 10\n",
    "\n",
    "# Добавляем клиентов в очередь\n",
    "for i in range(clients_qty):\n",
    "    status = random.randint(0, 1)\n",
    "    client = Client(status)\n",
    "    queue.add_client(client)\n",
    "\n",
    "# Обрабатываем 4ех клиентов\n",
    "for i in range(4):\n",
    "    queue.remove_client()\n",
    "\n",
    "# Генерируем отчет\n",
    "queue.generate_report()"
   ]
  },
  {
   "cell_type": "markdown",
   "id": "cf205542-3a0e-4fe9-82e4-0e0e55ceee26",
   "metadata": {},
   "source": [
    "Задание 6 (2 балла)\r\n",
    "Проверка на «почти палиндром»\r\n",
    "Напишите программу, которая проверяет, является ли строка палиндромом или «почти палиндромом». «Почти палиндром» означает, что можно удалить одну букву, чтобы строка стала палиндромом."
   ]
  },
  {
   "cell_type": "code",
   "execution_count": 17,
   "id": "52983c66-cf56-42d5-a2b7-f1e7a666eb3c",
   "metadata": {},
   "outputs": [
    {
     "name": "stdout",
     "output_type": "stream",
     "text": [
      "aabaa -> Палиндром\n",
      "abcba -> Палиндром\n",
      "aabaaa -> Почти палиндром\n",
      "abacaba -> Палиндром\n",
      "abacab -> Почти палиндром\n",
      "abcdefg -> Не палиндром\n"
     ]
    }
   ],
   "source": [
    "# Функция проверки на палиндром\n",
    "def is_palindrome(string):\n",
    "    return string == string[::-1]\n",
    "\n",
    "\n",
    "# Функция проверки строки. Определяет является ли строка палиндромом, «почти палиндромом» или не палиндром\n",
    "def is_almost_palindrome(string):\n",
    "    if is_palindrome(string):\n",
    "        return 'Палиндром'\n",
    "    for i in range(len(string)):\n",
    "        sub_str = string[:i] + string[i+1:]\n",
    "        if is_palindrome(sub_str):\n",
    "            return 'Почти палиндром'\n",
    "    return 'Не палиндром'\n",
    "\n",
    "str_list = ['aabaa', 'abcba', 'aabaaa', 'abacaba', 'abacab', 'abcdefg']\n",
    "\n",
    "for string in str_list:\n",
    "    print(string, '->', is_almost_palindrome(string))"
   ]
  },
  {
   "cell_type": "markdown",
   "id": "711f74bf-cd1f-46ab-9b4c-72df55471432",
   "metadata": {},
   "source": [
    "Задание 7 (9 баллов)\r\n",
    "Задача Шредингера\r\n",
    "Разработайте программу, которая «стирает» фрагменты текста в файле. Например:\r\n",
    "\r\n",
    "Пользователь указывает файл и процент текста, который нужно удалить (например, 30%).\r\n",
    "Программа случайно выбирает слова или части абзацев и заменяет их на пробел или ..., сохраняя общий объем документа.\r\n",
    "Вход:\r\n",
    "«Сегодня солнечный день, и я собираюсь гулять в парке с моими друзьями.»\r\n",
    "\r\n",
    "Вывод (удалено ~30%):\r\n",
    "«Сегодня ... день, и я собираюсь гулять ... моими друзьями.»"
   ]
  },
  {
   "cell_type": "code",
   "execution_count": 22,
   "id": "5c5d2bd6-c121-48ae-a71a-2d911def1b94",
   "metadata": {},
   "outputs": [
    {
     "ename": "FileNotFoundError",
     "evalue": "[Errno 2] No such file or directory: 'text.txt'",
     "output_type": "error",
     "traceback": [
      "\u001b[1;31m---------------------------------------------------------------------------\u001b[0m",
      "\u001b[1;31mFileNotFoundError\u001b[0m                         Traceback (most recent call last)",
      "Cell \u001b[1;32mIn[22], line 35\u001b[0m\n\u001b[0;32m     32\u001b[0m         file\u001b[38;5;241m.\u001b[39mwrite(new_text)\n\u001b[0;32m     34\u001b[0m \u001b[38;5;66;03m# Пример использования:\u001b[39;00m\n\u001b[1;32m---> 35\u001b[0m remove_text(\u001b[38;5;124m'\u001b[39m\u001b[38;5;124mtext.txt\u001b[39m\u001b[38;5;124m'\u001b[39m, \u001b[38;5;241m30\u001b[39m)\n",
      "Cell \u001b[1;32mIn[22], line 11\u001b[0m, in \u001b[0;36mremove_text\u001b[1;34m(file_name, percent)\u001b[0m\n\u001b[0;32m      3\u001b[0m \u001b[38;5;28;01mdef\u001b[39;00m \u001b[38;5;21mremove_text\u001b[39m(file_name, percent):\n\u001b[0;32m      4\u001b[0m \u001b[38;5;250m    \u001b[39m\u001b[38;5;124;03m\"\"\"\u001b[39;00m\n\u001b[0;32m      5\u001b[0m \u001b[38;5;124;03m    Удаляет случайные слова из текста в файле, заменяя их на '...', сохраняя общий объем документа.\u001b[39;00m\n\u001b[0;32m      6\u001b[0m \n\u001b[1;32m   (...)\u001b[0m\n\u001b[0;32m      9\u001b[0m \u001b[38;5;124;03m        percent (int): Процент слов, которые нужно удалить (от 0 до 100).\u001b[39;00m\n\u001b[0;32m     10\u001b[0m \u001b[38;5;124;03m    \"\"\"\u001b[39;00m\n\u001b[1;32m---> 11\u001b[0m     \u001b[38;5;28;01mwith\u001b[39;00m \u001b[38;5;28mopen\u001b[39m(file_name, \u001b[38;5;124m'\u001b[39m\u001b[38;5;124mr\u001b[39m\u001b[38;5;124m'\u001b[39m, encoding\u001b[38;5;241m=\u001b[39m\u001b[38;5;124m'\u001b[39m\u001b[38;5;124mutf-8\u001b[39m\u001b[38;5;124m'\u001b[39m) \u001b[38;5;28;01mas\u001b[39;00m file:\n\u001b[0;32m     12\u001b[0m         text \u001b[38;5;241m=\u001b[39m file\u001b[38;5;241m.\u001b[39mread()\n\u001b[0;32m     14\u001b[0m     words \u001b[38;5;241m=\u001b[39m text\u001b[38;5;241m.\u001b[39msplit()\n",
      "File \u001b[1;32m~\\anaconda3\\Lib\\site-packages\\IPython\\core\\interactiveshell.py:324\u001b[0m, in \u001b[0;36m_modified_open\u001b[1;34m(file, *args, **kwargs)\u001b[0m\n\u001b[0;32m    317\u001b[0m \u001b[38;5;28;01mif\u001b[39;00m file \u001b[38;5;129;01min\u001b[39;00m {\u001b[38;5;241m0\u001b[39m, \u001b[38;5;241m1\u001b[39m, \u001b[38;5;241m2\u001b[39m}:\n\u001b[0;32m    318\u001b[0m     \u001b[38;5;28;01mraise\u001b[39;00m \u001b[38;5;167;01mValueError\u001b[39;00m(\n\u001b[0;32m    319\u001b[0m         \u001b[38;5;124mf\u001b[39m\u001b[38;5;124m\"\u001b[39m\u001b[38;5;124mIPython won\u001b[39m\u001b[38;5;124m'\u001b[39m\u001b[38;5;124mt let you open fd=\u001b[39m\u001b[38;5;132;01m{\u001b[39;00mfile\u001b[38;5;132;01m}\u001b[39;00m\u001b[38;5;124m by default \u001b[39m\u001b[38;5;124m\"\u001b[39m\n\u001b[0;32m    320\u001b[0m         \u001b[38;5;124m\"\u001b[39m\u001b[38;5;124mas it is likely to crash IPython. If you know what you are doing, \u001b[39m\u001b[38;5;124m\"\u001b[39m\n\u001b[0;32m    321\u001b[0m         \u001b[38;5;124m\"\u001b[39m\u001b[38;5;124myou can use builtins\u001b[39m\u001b[38;5;124m'\u001b[39m\u001b[38;5;124m open.\u001b[39m\u001b[38;5;124m\"\u001b[39m\n\u001b[0;32m    322\u001b[0m     )\n\u001b[1;32m--> 324\u001b[0m \u001b[38;5;28;01mreturn\u001b[39;00m io_open(file, \u001b[38;5;241m*\u001b[39margs, \u001b[38;5;241m*\u001b[39m\u001b[38;5;241m*\u001b[39mkwargs)\n",
      "\u001b[1;31mFileNotFoundError\u001b[0m: [Errno 2] No such file or directory: 'text.txt'"
     ]
    }
   ],
   "source": [
    "import random\n",
    "\n",
    "def remove_text(file_name, percent):\n",
    "    \"\"\"\n",
    "    Удаляет случайные слова из текста в файле, заменяя их на '...', сохраняя общий объем документа.\n",
    "\n",
    "    Args:\n",
    "        file_name (str): Имя файла, из которого нужно удалить слова.\n",
    "        percent (int): Процент слов, которые нужно удалить (от 0 до 100).\n",
    "    \"\"\"\n",
    "    with open(file_name, 'r', encoding='utf-8') as file:\n",
    "        text = file.read()\n",
    "\n",
    "    words = text.split()\n",
    "    num_words = len(words)\n",
    "    num_remove = int(num_words * percent / 100)\n",
    "\n",
    "    if num_remove == 0: # Добавляем обработку случая когда нечего удалять\n",
    "         print(text)\n",
    "         return\n",
    "\n",
    "    indexes = random.sample(range(num_words), num_remove) # выбираем случайные индексы без повторений\n",
    "\n",
    "    for index in indexes:\n",
    "        words[index] = '...'\n",
    "\n",
    "    new_text = ' '.join(words)\n",
    "\n",
    "    print(new_text)\n",
    "\n",
    "    with open(file_name, 'w', encoding='utf-8') as file:\n",
    "        file.write(new_text)\n",
    "\n",
    "# Пример использования:\n",
    "remove_text('text.txt', 30)"
   ]
  }
 ],
 "metadata": {
  "kernelspec": {
   "display_name": "Python 3 (ipykernel)",
   "language": "python",
   "name": "python3"
  },
  "language_info": {
   "codemirror_mode": {
    "name": "ipython",
    "version": 3
   },
   "file_extension": ".py",
   "mimetype": "text/x-python",
   "name": "python",
   "nbconvert_exporter": "python",
   "pygments_lexer": "ipython3",
   "version": "3.12.4"
  }
 },
 "nbformat": 4,
 "nbformat_minor": 5
}
