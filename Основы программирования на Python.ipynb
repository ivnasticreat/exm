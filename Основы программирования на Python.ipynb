{
 "cells": [
  {
   "cell_type": "markdown",
   "id": "06a0c33b-8796-4808-85c1-238854f79fa7",
   "metadata": {},
   "source": [
    "Экзаменационное задание по курсу «Программирование на Python»"
   ]
  },
  {
   "cell_type": "markdown",
   "id": "2b6e3d16-26d2-485d-bdd7-5d606f398e4f",
   "metadata": {},
   "source": [
    "Задание 1 (4 балла)\n",
    "Обратный порядок слов в блоках текста\n",
    "Дан текстовый файл, каждое предложение которого занимает одну строку. Напишите программу, которая разделяет текст на блоки — каждый блок состоит из нескольких предложений. Затем переворачивает порядок слов только внутри каждого предложения, не меняя порядок самих предложений в блоке.\n",
    "\n",
    "Файл содержит:\n",
    "\n",
    "Привет как дела\n",
    "На улице идет дождь\n",
    "Я люблю программирование"
   ]
  },
  {
   "cell_type": "code",
   "execution_count": null,
   "id": "19633f00-f36f-46bd-aeac-226258c6ea67",
   "metadata": {},
   "outputs": [],
   "source": [
    "# Функция, разделяющая текстовую последовательность на фрагменты заданной длины.\n",
    "# При условии, что длина фрагмента превышает или равна длине исходной последовательности, последующий фрагмент не будет содержать символов.\n",
    "def split_line_on_blocks(line, block_size):\n",
    "    if len(line) <= block_size:\n",
    "        return [line, '']\n",
    "    else:\n",
    "        result = []\n",
    "        idx = 0\n",
    "        while idx < len(line):\n",
    "            result += [line[idx:idx + block_size]]\n",
    "            idx += block_size\n",
    "        return result\n",
    "\n",
    "\n",
    "# Метод, инвертирующий порядок символов в каждом слове текстового блока и объединяющий их в результирующую последовательность.\n",
    "def reverse_string(block):\n",
    "    result = ''\n",
    "    for i in range(len(block) - 1, -1, -1):\n",
    "        result += block[i]\n",
    "        result += ' '\n",
    "    result = result.strip()\n",
    "    return result\n",
    "\n",
    "\n",
    "# Собираем данные в список\n",
    "with open('input.txt', 'r', encoding='utf-8') as input_data:\n",
    "    str_list = [line.split() for line in input_data]\n",
    "\n",
    "# Каждую строку из файла разбиваем на блоки и переворачиваем внутри блока.\n",
    "for i, str in enumerate(str_list):\n",
    "    blocks = split_line_on_blocks(str, i + 1)\n",
    "    for block in blocks:\n",
    "        print(reverse_string(block))"
   ]
  },
  {
   "cell_type": "markdown",
   "id": "c4a5233b-b2ec-4d21-8d11-bd113ef7f39d",
   "metadata": {},
   "source": [
    "Задание 2 (2 балла) Напишите функцию, которая принимает строку и сжимает её определённым образом. Строки содержат произвольные символы, включая пробелы и спецсимволы, и требуют точного учета длины при кодировании. Сжатие строки происходит сериями одинаковых символов в формате с и м в о л + к о л и ч е с т в оч е с т в о , но только если длина сжатой строки не превышает исходную.\r\n",
    "\r\n",
    "Примеры:\r\n",
    "\r\n",
    "вход: aaabbc → вывод: a3b2c, вход: abcd → вывод: abcd (так как сжатая равна)."
   ]
  },
  {
   "cell_type": "code",
   "execution_count": null,
   "id": "b6d19852-9fb0-4d5b-a3ff-8362167b0ccd",
   "metadata": {},
   "outputs": [],
   "source": [
    "def compress_string(string):\n",
    "    \"\"\"\n",
    "    Сжимает строку, заменяя последовательности одинаковых символов на символ + количество.\n",
    "    Возвращает сжатую строку, только если она короче исходной, иначе - исходную.\n",
    "    \"\"\"\n",
    "    if len(string) < 2:\n",
    "        return string\n",
    "\n",
    "    compressed = \"\"\n",
    "    i = 0\n",
    "    while i < len(string):\n",
    "        char = string[i]\n",
    "        count = 1\n",
    "        j = i + 1\n",
    "        while j < len(string) and string[j] == char:\n",
    "            count += 1\n",
    "            j += 1\n",
    "\n",
    "        compressed += char\n",
    "        if count > 1:\n",
    "           compressed += str(count)\n",
    "        i = j\n",
    "\n",
    "    if len(compressed) < len(string):\n",
    "        return compressed\n",
    "    else:\n",
    "        return string\n",
    "\n",
    "\n",
    "# Тесты\n",
    "str_list = ['2222222222','aaaabbbccc', 'abcc', 'abc', 'a', 'aa', 'aaa', 'aaaa', 'aaaaa', 'aaabbc', 'abcd', 'aabccaaacabbb','', '   asdasssss   ,;\"\"221241@@@4121']\n",
    "\n",
    "for i in str_list:\n",
    "    compressed_str = compress_string(i)\n",
    "    print(i, 'длина строки', len(i), '->', compressed_str, 'длина сжатой строки', len(compressed_str))"
   ]
  },
  {
   "cell_type": "markdown",
   "id": "7598aaba-fad6-4d3f-9840-c75bb760c2d5",
   "metadata": {},
   "source": [
    "Задание 3 (4 балла) Хаотичные скобки Реализуйте функцию, которая проверяет, правильно ли расставлены скобки в строке (включая круглые, квадратные и фигурные скобки)."
   ]
  },
  {
   "cell_type": "code",
   "execution_count": null,
   "id": "04a1fcdc-38c1-46fd-a2b1-d17e93829d97",
   "metadata": {},
   "outputs": [],
   "source": [
    "# Карта соответствия открывающихся скобок закрывающимся.\n",
    "brackets_map = {\n",
    "    '(': ')',\n",
    "    '[': ']',\n",
    "    '{': '}'\n",
    "}\n",
    "\n",
    "\n",
    "def is_correct_brackets(string):\n",
    "    stack = []\n",
    "    for character in string:\n",
    "        if character in brackets_map.keys():\n",
    "            stack.append(character)\n",
    "        elif character in brackets_map.values():\n",
    "            if not stack:\n",
    "                return False\n",
    "            if character != brackets_map[stack.pop()]:\n",
    "                return False\n",
    "    return not stack\n",
    "\n",
    "\n",
    "# Тесты\n",
    "str_list = [\n",
    "    '(((([{}]))))',\n",
    "    '[([])((([[[]]])))]{()}',\n",
    "    '{{[()]}}',\n",
    "    '}{}',\n",
    "    '{{[(])]}}',\n",
    "    '[[{())}]',\n",
    "    'aaaaa(aaavaaf)asds{(asd)}',\n",
    "    'asasd{asda()sdas}]',\n",
    "    ''\n",
    "]\n",
    "\n",
    "for i in str_list:\n",
    "    print(i, '->', is_correct_brackets(i))"
   ]
  },
  {
   "cell_type": "markdown",
   "id": "429f7587-c8d5-45e4-b0f7-ea6623884112",
   "metadata": {},
   "source": [
    "Задание 4 (4 балла) Генератор случайных паролей Напишите функцию, которая генерирует пароль заданной длины. В реализации надо учитывать, что:\r\n",
    "\r\n",
    "Пароль должен содержать буквы, цифры и специальные символы. Длина пароля задается пользователем."
   ]
  },
  {
   "cell_type": "code",
   "execution_count": null,
   "id": "10b8bdf1-1dcb-4c0e-96fa-91baa957298c",
   "metadata": {},
   "outputs": [],
   "source": [
    "import string\n",
    "import random\n",
    "\n",
    "# Метод, который генерирует пароль. Пароль не может содержать меньше трех символов\n",
    "# и должен содержать буквы, цифры и специальные символы.\n",
    "# Кол-во букв, цифр и спец. символов определяется случайным образом, но не может быть меньше 1, а общее кол-во символов\n",
    "# не может превышать длину пароля.\n",
    "# Порядок букв, цифр и спец. символов определяется случайным образом.\n",
    "def generate_password(length):\n",
    "    if length < 3:\n",
    "        raise ValueError('Длина пароля должна быть больше или равна 3')\n",
    "    special_char_qty = random.randint(1, length-2)\n",
    "    digits_qty = random.randint(1, length-special_char_qty-1)\n",
    "    letters_qty = length - special_char_qty - digits_qty\n",
    "    chars = []\n",
    "    chars += random.sample(string.ascii_letters, letters_qty)\n",
    "    chars += random.sample(string.digits, digits_qty)\n",
    "    chars += random.sample(string.punctuation, special_char_qty)\n",
    "    random.shuffle(chars)\n",
    "    return ''.join(chars)\n",
    "\n",
    "# Тесты\n",
    "len_list = [3,4,5,6,6,6,7,8,4,10]\n",
    "for i in len_list:\n",
    "    password = generate_password(i)\n",
    "    print(i, '->', password, 'длина пароля', len(password))"
   ]
  },
  {
   "cell_type": "code",
   "execution_count": null,
   "id": "3988edf7-8ba3-4a6d-bafc-306a9b206ab6",
   "metadata": {},
   "outputs": [],
   "source": []
  },
  {
   "cell_type": "code",
   "execution_count": null,
   "id": "f64443d2-0a04-470e-9dc9-4a25ac76b990",
   "metadata": {},
   "outputs": [],
   "source": []
  },
  {
   "cell_type": "code",
   "execution_count": null,
   "id": "244c5258-6ae8-48fb-8740-307dc956172e",
   "metadata": {},
   "outputs": [],
   "source": []
  },
  {
   "cell_type": "code",
   "execution_count": null,
   "id": "dec089c8-2705-4184-9e41-1a695cfd812f",
   "metadata": {},
   "outputs": [],
   "source": []
  },
  {
   "cell_type": "code",
   "execution_count": null,
   "id": "ffa40ce7-34fb-4261-af71-e6c22ba0cd27",
   "metadata": {},
   "outputs": [],
   "source": []
  },
  {
   "cell_type": "code",
   "execution_count": null,
   "id": "6f17d292-8fb0-46bf-a1fb-5b8554140074",
   "metadata": {},
   "outputs": [],
   "source": []
  },
  {
   "cell_type": "code",
   "execution_count": null,
   "id": "ca4917be-fe07-426d-b2e9-5bd5094877e8",
   "metadata": {},
   "outputs": [],
   "source": []
  },
  {
   "cell_type": "code",
   "execution_count": null,
   "id": "0a1d62fb-09dd-4d9c-a65e-1035af9f89b7",
   "metadata": {},
   "outputs": [],
   "source": []
  }
 ],
 "metadata": {
  "kernelspec": {
   "display_name": "Python 3 (ipykernel)",
   "language": "python",
   "name": "python3"
  },
  "language_info": {
   "codemirror_mode": {
    "name": "ipython",
    "version": 3
   },
   "file_extension": ".py",
   "mimetype": "text/x-python",
   "name": "python",
   "nbconvert_exporter": "python",
   "pygments_lexer": "ipython3",
   "version": "3.12.4"
  }
 },
 "nbformat": 4,
 "nbformat_minor": 5
}
